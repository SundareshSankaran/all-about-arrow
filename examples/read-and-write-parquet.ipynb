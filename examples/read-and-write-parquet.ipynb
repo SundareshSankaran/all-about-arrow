{
 "cells": [
  {
   "cell_type": "markdown",
   "id": "cc950e22-c0c4-420d-bf48-f8e8dc77c995",
   "metadata": {},
   "source": [
    "# Read and write Parquet - Tutorial"
   ]
  },
  {
   "cell_type": "markdown",
   "id": "ba2f4039-6242-43be-ac05-e0929e6bd34e",
   "metadata": {},
   "source": [
    "## Imports"
   ]
  },
  {
   "cell_type": "code",
   "execution_count": 1,
   "id": "b14aea3f-6e04-4912-b03e-ab01911594a4",
   "metadata": {},
   "outputs": [],
   "source": [
    "import pyarrow as pa"
   ]
  },
  {
   "cell_type": "code",
   "execution_count": 2,
   "id": "ab0570ff-bd6e-4a5a-8410-d4fdbc646d29",
   "metadata": {},
   "outputs": [],
   "source": [
    "import pyarrow.parquet as pq"
   ]
  },
  {
   "cell_type": "markdown",
   "id": "8f6938f0-6975-4d93-9b14-e61e9617e86e",
   "metadata": {},
   "source": [
    "## Read a dummy CSV\n"
   ]
  },
  {
   "cell_type": "code",
   "execution_count": 3,
   "id": "a12ae8b2-24cf-45e9-9d90-6d3647186c47",
   "metadata": {},
   "outputs": [],
   "source": [
    "import pandas as pd\n",
    "import os\n",
    "\n",
    "pdf = pd.read_csv(os.path.join(os.getcwd(),\"data\",\"sample-data-for-file-reads.csv\"))"
   ]
  },
  {
   "cell_type": "code",
   "execution_count": 4,
   "id": "18036666-28a2-4141-9053-ed168cc1df82",
   "metadata": {},
   "outputs": [],
   "source": [
    "a_table = pa.Table.from_pandas(pdf)"
   ]
  },
  {
   "cell_type": "markdown",
   "id": "c4a7e4f2-00b8-4674-a2c6-a20bc2448835",
   "metadata": {},
   "source": [
    "## Write table to Parquet"
   ]
  },
  {
   "cell_type": "code",
   "execution_count": 5,
   "id": "c5ae87df-bbf0-421f-8f7a-9fe984f95a66",
   "metadata": {},
   "outputs": [],
   "source": [
    "pq.write_table(a_table, os.path.join(os.getcwd(),\"data\",\"a_table_example.parquet\"), compression=None)"
   ]
  },
  {
   "cell_type": "markdown",
   "id": "198532aa-4542-4071-af78-dea4f7a21396",
   "metadata": {},
   "source": [
    "## Read from Parquet"
   ]
  },
  {
   "cell_type": "code",
   "execution_count": 6,
   "id": "7d07338a-a0c1-429a-abf2-37a9bdd28788",
   "metadata": {},
   "outputs": [],
   "source": [
    "a_new_table = pq.read_table(os.path.join(os.getcwd(),\"data\",\"a_table_example.parquet\"))"
   ]
  },
  {
   "cell_type": "code",
   "execution_count": 7,
   "id": "8d5e4615-bd9f-45a0-ab45-e257e2c70aa9",
   "metadata": {},
   "outputs": [
    {
     "data": {
      "text/plain": [
       "pyarrow.Table\n",
       "Num: int64\n",
       "Char: string\n",
       "Varchar: string\n",
       "Date_Field: string\n",
       "Categorical: string\n",
       "Percentage: string\n",
       "----\n",
       "Num: [[1,2,3,4,5,5]]\n",
       "Char: [[\"This is a char\",\"Here is a char\",\"This is a char\",\"Here is a char\",\"This is a char\",\"Here is a char\"]]\n",
       "Varchar: [[\"Random Wilipedia: James Michael Vince (born 14 March 1991) is an English cricketer who plays for Hampshire County Cricket Club in T20 cricket and plays for the England cricket team.\",\"Random Wilipedia He captained Hampshire in all formats until he declared his retirement from red ball cricket in 2025.[1] Vince was part of the England squad that won the 2019 Cricket World Cup.[2] He is a right-handed middle-order batter who is also a right-arm medium pace bowler. He made his international debut for England in May 2015.[3]\",\"Random Wilipedia Tulsidham Ke Laddu Gopal (transl. Tulsidham's Laddu Gopal) is an Indian Hindi-language Socio-Mytho series starring Akshita Mudgal and Heth Makhwana.[1] It premiered on 21 August 2023 and aired on Shemaroo TV[2] under the banner of CLS Entertainment Private Limited.[3]\",\"Random Wilipedia Dead by April is a Swedish metalcore band from Gothenburg, formed in 2007 by Pontus Hjelm and Jimmie Strimell. The current band lineup consists of Pontus Hjelm (guitars/keyboards/clean vocals), Christopher Kristensen (unclean vocals) and Markus Wesslén (bass/backing growled vocals). Despite many line up changes throughout their career, both Markus Wesslén and Pontus Hjelm have remained consistent since their debut album.\",\"Random Wilipedia Yélamos de Arriba is a municipality located in the province of Guadalajara, Castile-La Mancha, Spain. According to the 2004 census (INE), the municipality has a population of 136 inhabitants.\",\"Random Wilipedia; Nexans S.A. is a global company in the cable and optical fibre industry headquartered in Paris, France.[2][3]\n",
       "\n",
       "The group is active in four main business areas: buildings and territories (construction, local infrastructure, smart cities / grids, e-mobility), high voltage and projects (offshore wind farms, subsea interconnections, land high voltage), data and telecoms (telecom networks), data transmission, FTTx, LAN cabling, renewable energies, petroleum, railways and rolling stock, aeronautical and automation.[4][5][6]\"]]\n",
       "Date_Field: [[\"20-Feb-25\",\"20-Feb-25\",\"20-Feb-25\",\"20-Feb-25\",\"20-Feb-25\",\"20-Feb-25\"]]\n",
       "Categorical: [[\"Y\",\"Y\",\"N\",\"N\",\"Y\",\"Y\"]]\n",
       "Percentage: [[\"20%\",\"20%\",\"21%\",\"53%\",\"21%\",\"34%\"]]"
      ]
     },
     "execution_count": 7,
     "metadata": {},
     "output_type": "execute_result"
    }
   ],
   "source": [
    "a_new_table"
   ]
  },
  {
   "cell_type": "markdown",
   "id": "66d2af22-e91e-42ac-8130-21888f8ae5c9",
   "metadata": {},
   "source": [
    "## An example of how to read in specific columns and apply filtering on the base Parquet file\n",
    "#### This helps you take advantage of the columnar format of Parquet"
   ]
  },
  {
   "cell_type": "code",
   "execution_count": 8,
   "id": "a115ad23-2ca4-4c26-adcb-e1cacea4defd",
   "metadata": {},
   "outputs": [],
   "source": [
    "filtered_table = pq.read_table(os.path.join(os.getcwd(),\"data\",\"a_table_example.parquet\"),\n",
    "                      columns=[\"Date_Field\", \"Categorical\", \"Char\"],\n",
    "                      filters=[\n",
    "                          (\"Num\", \">\", 3),\n",
    "                          (\"Num\", \"<\", 5),\n",
    "                      ])"
   ]
  },
  {
   "cell_type": "code",
   "execution_count": 9,
   "id": "347761a2-eb24-482e-b8f1-0958c51c1990",
   "metadata": {},
   "outputs": [
    {
     "data": {
      "text/plain": [
       "pyarrow.Table\n",
       "Date_Field: string\n",
       "Categorical: string\n",
       "Char: string\n",
       "----\n",
       "Date_Field: [[\"20-Feb-25\"]]\n",
       "Categorical: [[\"N\"]]\n",
       "Char: [[\"Here is a char\"]]"
      ]
     },
     "execution_count": 9,
     "metadata": {},
     "output_type": "execute_result"
    }
   ],
   "source": [
    "filtered_table"
   ]
  },
  {
   "cell_type": "markdown",
   "id": "dd049e96-9146-402b-bd67-8d7a48f3e3e7",
   "metadata": {},
   "source": [
    "#### Also note that the column used as a filter need not be carried over"
   ]
  },
  {
   "cell_type": "code",
   "execution_count": null,
   "id": "77580390-f9de-4f16-b17f-f29bbf658c50",
   "metadata": {},
   "outputs": [],
   "source": []
  },
  {
   "cell_type": "code",
   "execution_count": null,
   "id": "d058e512-5832-471d-af18-85193da69e83",
   "metadata": {},
   "outputs": [],
   "source": []
  }
 ],
 "metadata": {
  "kernelspec": {
   "display_name": "buildproj",
   "language": "python",
   "name": "buildproj"
  },
  "language_info": {
   "codemirror_mode": {
    "name": "ipython",
    "version": 3
   },
   "file_extension": ".py",
   "mimetype": "text/x-python",
   "name": "python",
   "nbconvert_exporter": "python",
   "pygments_lexer": "ipython3",
   "version": "3.10.11"
  }
 },
 "nbformat": 4,
 "nbformat_minor": 5
}
