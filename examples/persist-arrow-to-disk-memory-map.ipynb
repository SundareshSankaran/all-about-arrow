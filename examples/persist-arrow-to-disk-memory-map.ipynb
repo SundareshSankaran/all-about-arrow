{
 "cells": [
  {
   "cell_type": "code",
   "execution_count": 1,
   "id": "91bb9a85-341f-42ce-80a2-a35ab2fc1b65",
   "metadata": {},
   "outputs": [],
   "source": [
    "# Imports"
   ]
  },
  {
   "cell_type": "code",
   "execution_count": 10,
   "id": "658caa42-bb93-470b-ad36-f40359c6d7f8",
   "metadata": {},
   "outputs": [],
   "source": [
    "import pyarrow as pa\n",
    "import os"
   ]
  },
  {
   "cell_type": "code",
   "execution_count": 3,
   "id": "039c341b-f8bb-4f9a-b0b9-f22ac749c5bc",
   "metadata": {},
   "outputs": [],
   "source": [
    "# Save an array to disk"
   ]
  },
  {
   "cell_type": "code",
   "execution_count": 5,
   "id": "af6ea66f-b710-4594-abb3-5b643ab46bc7",
   "metadata": {},
   "outputs": [],
   "source": [
    "example_array = pa.array([1,2,3,4,5,6])"
   ]
  },
  {
   "cell_type": "code",
   "execution_count": 7,
   "id": "9f769059-dd7c-42db-8689-f99d9854a6f4",
   "metadata": {},
   "outputs": [],
   "source": [
    "schema = pa.schema([\n",
    "    pa.field('numbers', example_array.type)\n",
    "])"
   ]
  },
  {
   "cell_type": "code",
   "execution_count": 8,
   "id": "ea2c9fe5-b14b-42cb-9ab2-237219561109",
   "metadata": {},
   "outputs": [
    {
     "data": {
      "text/plain": [
       "numbers: int64"
      ]
     },
     "execution_count": 8,
     "metadata": {},
     "output_type": "execute_result"
    }
   ],
   "source": [
    "schema"
   ]
  },
  {
   "cell_type": "code",
   "execution_count": 63,
   "id": "7c587a98-660b-4593-bf23-67e16054e3ed",
   "metadata": {},
   "outputs": [],
   "source": [
    "with pa.OSFile(os.path.join(os.getcwd(),\"data\",\"example_array.arrow\"), 'wb') as sink:\n",
    "    with pa.ipc.new_file(sink, schema=schema) as writer:\n",
    "        batch = pa.record_batch([example_array], schema=schema)\n",
    "        writer.write(batch)"
   ]
  },
  {
   "cell_type": "code",
   "execution_count": 12,
   "id": "959a9ff4-e841-4de9-bab1-813773c31274",
   "metadata": {},
   "outputs": [],
   "source": [
    "# This is nice.  But, what abt a table?"
   ]
  },
  {
   "cell_type": "code",
   "execution_count": 13,
   "id": "743139ba-bcf7-43bd-bb34-669200523ec1",
   "metadata": {},
   "outputs": [],
   "source": [
    "a_table = pa.table([[1,2,3,4],[10,20,30,40],[100,200,300,400]],  names=[\"units\", \"tens\", \"huns\"])"
   ]
  },
  {
   "cell_type": "code",
   "execution_count": 62,
   "id": "9092c9d9-92ae-44ca-96f1-1db1ed198cd7",
   "metadata": {
    "lines_to_next_cell": 2
   },
   "outputs": [],
   "source": [
    "with pa.OSFile(os.path.join(os.getcwd(),\"data\",\"example_table_two.arrow\"), 'wb') as sink:\n",
    "    with pa.ipc.new_file(sink, schema = a_table.schema) as writer:\n",
    "        writer.write(a_table)"
   ]
  },
  {
   "cell_type": "code",
   "execution_count": 54,
   "id": "28f22678-0be4-437d-b0f6-8d3040bc6820",
   "metadata": {},
   "outputs": [],
   "source": [
    "# Alternative:  Convert to a record batch (Which requires you to extract the schema)"
   ]
  },
  {
   "cell_type": "code",
   "execution_count": 61,
   "id": "f484de3b-5f22-4cbd-91de-ee4feb25a9a2",
   "metadata": {},
   "outputs": [],
   "source": [
    "a_rb = pa.record_batch(a_table.to_pandas(), schema=a_table.schema)\n",
    "\n",
    "with pa.OSFile(os.path.join(os.getcwd(),\"data\",\"example_table_three.arrow\"), 'wb') as sink:\n",
    "    with pa.ipc.new_file(sink, schema = a_table.schema) as writer:\n",
    "        writer.write(a_rb)"
   ]
  },
  {
   "cell_type": "code",
   "execution_count": 60,
   "id": "e99d5205-4d6a-4213-9c93-d188a50e06f1",
   "metadata": {},
   "outputs": [],
   "source": [
    "## Map to Memory"
   ]
  },
  {
   "cell_type": "code",
   "execution_count": 64,
   "id": "40b2cc64-489e-4de2-ad1d-0f33670a6470",
   "metadata": {},
   "outputs": [],
   "source": [
    "with pa.memory_map(os.path.join(os.getcwd(),\"data\",\"example_array.arrow\"), 'r') as source:\n",
    "    loaded_arrays = pa.ipc.open_file(source).read_all()"
   ]
  },
  {
   "cell_type": "code",
   "execution_count": 66,
   "id": "cbbe2b97-6635-44f4-ba73-b0ac2a38f843",
   "metadata": {},
   "outputs": [
    {
     "data": {
      "text/plain": [
       "pyarrow.Table\n",
       "numbers: int64\n",
       "----\n",
       "numbers: [[1,2,3,4,5,6]]"
      ]
     },
     "execution_count": 66,
     "metadata": {},
     "output_type": "execute_result"
    }
   ],
   "source": [
    "loaded_arrays"
   ]
  },
  {
   "cell_type": "code",
   "execution_count": 67,
   "id": "a75ef17a-4a43-4236-aadb-ccdef4500639",
   "metadata": {},
   "outputs": [],
   "source": [
    "with pa.memory_map(os.path.join(os.getcwd(),\"data\",\"example_table_two.arrow\"), 'r') as source:\n",
    "    loaded_table = pa.ipc.open_file(source).read_all()"
   ]
  },
  {
   "cell_type": "code",
   "execution_count": 68,
   "id": "06d7b75b-24d8-46f4-9447-b5d3142fdfcc",
   "metadata": {},
   "outputs": [
    {
     "data": {
      "text/plain": [
       "pyarrow.Table\n",
       "units: int64\n",
       "tens: int64\n",
       "huns: int64\n",
       "----\n",
       "units: [[1,2,3,4]]\n",
       "tens: [[10,20,30,40]]\n",
       "huns: [[100,200,300,400]]"
      ]
     },
     "execution_count": 68,
     "metadata": {},
     "output_type": "execute_result"
    }
   ],
   "source": [
    "loaded_table"
   ]
  },
  {
   "cell_type": "code",
   "execution_count": 69,
   "id": "65765ea5-1545-491a-a3f2-ed3c9ef0b0e8",
   "metadata": {},
   "outputs": [],
   "source": [
    "with pa.memory_map(os.path.join(os.getcwd(),\"data\",\"example_table_three.arrow\"), 'r') as source:\n",
    "    loaded_table_three = pa.ipc.open_file(source).read_all()"
   ]
  },
  {
   "cell_type": "code",
   "execution_count": 70,
   "id": "93fdbe44-7670-41e5-af97-073c1f926d80",
   "metadata": {},
   "outputs": [
    {
     "data": {
      "text/plain": [
       "pyarrow.Table\n",
       "units: int64\n",
       "tens: int64\n",
       "huns: int64\n",
       "----\n",
       "units: [[1,2,3,4]]\n",
       "tens: [[10,20,30,40]]\n",
       "huns: [[100,200,300,400]]"
      ]
     },
     "execution_count": 70,
     "metadata": {},
     "output_type": "execute_result"
    }
   ],
   "source": [
    "loaded_table_three"
   ]
  },
  {
   "cell_type": "code",
   "execution_count": null,
   "id": "538157ee-d933-40a4-aa13-413f29beb12f",
   "metadata": {},
   "outputs": [],
   "source": []
  }
 ],
 "metadata": {
  "kernelspec": {
   "display_name": "buildproj",
   "language": "python",
   "name": "buildproj"
  },
  "language_info": {
   "codemirror_mode": {
    "name": "ipython",
    "version": 3
   },
   "file_extension": ".py",
   "mimetype": "text/x-python",
   "name": "python",
   "nbconvert_exporter": "python",
   "pygments_lexer": "ipython3",
   "version": "3.10.11"
  }
 },
 "nbformat": 4,
 "nbformat_minor": 5
}
